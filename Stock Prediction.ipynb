{
 "cells": [
  {
   "cell_type": "markdown",
   "metadata": {},
   "source": [
    "# Stock Prediction"
   ]
  },
  {
   "cell_type": "code",
   "execution_count": 417,
   "metadata": {},
   "outputs": [
    {
     "data": {
      "text/html": [
       "<div>\n",
       "<style scoped>\n",
       "    .dataframe tbody tr th:only-of-type {\n",
       "        vertical-align: middle;\n",
       "    }\n",
       "\n",
       "    .dataframe tbody tr th {\n",
       "        vertical-align: top;\n",
       "    }\n",
       "\n",
       "    .dataframe thead th {\n",
       "        text-align: right;\n",
       "    }\n",
       "</style>\n",
       "<table border=\"1\" class=\"dataframe\">\n",
       "  <thead>\n",
       "    <tr style=\"text-align: right;\">\n",
       "      <th></th>\n",
       "      <th>High</th>\n",
       "      <th>Low</th>\n",
       "      <th>Open</th>\n",
       "      <th>Close</th>\n",
       "      <th>Volume</th>\n",
       "      <th>Adj Close</th>\n",
       "    </tr>\n",
       "    <tr>\n",
       "      <th>Date</th>\n",
       "      <th></th>\n",
       "      <th></th>\n",
       "      <th></th>\n",
       "      <th></th>\n",
       "      <th></th>\n",
       "      <th></th>\n",
       "    </tr>\n",
       "  </thead>\n",
       "  <tbody>\n",
       "    <tr>\n",
       "      <th>2019-01-07</th>\n",
       "      <td>1074.000000</td>\n",
       "      <td>1054.760010</td>\n",
       "      <td>1071.500000</td>\n",
       "      <td>1068.390015</td>\n",
       "      <td>1981900.0</td>\n",
       "      <td>1068.390015</td>\n",
       "    </tr>\n",
       "    <tr>\n",
       "      <th>2019-01-08</th>\n",
       "      <td>1084.560059</td>\n",
       "      <td>1060.530029</td>\n",
       "      <td>1076.109985</td>\n",
       "      <td>1076.280029</td>\n",
       "      <td>1764900.0</td>\n",
       "      <td>1076.280029</td>\n",
       "    </tr>\n",
       "    <tr>\n",
       "      <th>2019-01-09</th>\n",
       "      <td>1082.630005</td>\n",
       "      <td>1066.400024</td>\n",
       "      <td>1081.650024</td>\n",
       "      <td>1074.660034</td>\n",
       "      <td>1199300.0</td>\n",
       "      <td>1074.660034</td>\n",
       "    </tr>\n",
       "    <tr>\n",
       "      <th>2019-01-10</th>\n",
       "      <td>1071.150024</td>\n",
       "      <td>1057.709961</td>\n",
       "      <td>1067.660034</td>\n",
       "      <td>1070.329956</td>\n",
       "      <td>1456400.0</td>\n",
       "      <td>1070.329956</td>\n",
       "    </tr>\n",
       "    <tr>\n",
       "      <th>2019-01-11</th>\n",
       "      <td>1063.775024</td>\n",
       "      <td>1048.479980</td>\n",
       "      <td>1063.180054</td>\n",
       "      <td>1057.189941</td>\n",
       "      <td>1520800.0</td>\n",
       "      <td>1057.189941</td>\n",
       "    </tr>\n",
       "  </tbody>\n",
       "</table>\n",
       "</div>"
      ],
      "text/plain": [
       "                   High          Low         Open        Close     Volume  \\\n",
       "Date                                                                        \n",
       "2019-01-07  1074.000000  1054.760010  1071.500000  1068.390015  1981900.0   \n",
       "2019-01-08  1084.560059  1060.530029  1076.109985  1076.280029  1764900.0   \n",
       "2019-01-09  1082.630005  1066.400024  1081.650024  1074.660034  1199300.0   \n",
       "2019-01-10  1071.150024  1057.709961  1067.660034  1070.329956  1456400.0   \n",
       "2019-01-11  1063.775024  1048.479980  1063.180054  1057.189941  1520800.0   \n",
       "\n",
       "              Adj Close  \n",
       "Date                     \n",
       "2019-01-07  1068.390015  \n",
       "2019-01-08  1076.280029  \n",
       "2019-01-09  1074.660034  \n",
       "2019-01-10  1070.329956  \n",
       "2019-01-11  1057.189941  "
      ]
     },
     "execution_count": 417,
     "metadata": {},
     "output_type": "execute_result"
    }
   ],
   "source": [
    "import pandas as pd\n",
    "import datetime\n",
    "import pandas_datareader.data as web\n",
    "from pandas import Series, DataFrame\n",
    "\n",
    "\n",
    "def get_stock_data(ticker):\n",
    "    start = datetime.datetime(2010, 1, 1)\n",
    "    end = datetime.datetime(2019, 1, 11)\n",
    "\n",
    "    df = web.DataReader(\"GOOG\", 'yahoo', start, end)            \n",
    "    return df\n",
    "\n",
    "df = get_stock_data('GOOG')\n",
    "df.tail()\n"
   ]
  },
  {
   "cell_type": "markdown",
   "metadata": {},
   "source": [
    "### Build required features for prediction"
   ]
  },
  {
   "cell_type": "code",
   "execution_count": 418,
   "metadata": {},
   "outputs": [
    {
     "data": {
      "text/html": [
       "<div>\n",
       "<style scoped>\n",
       "    .dataframe tbody tr th:only-of-type {\n",
       "        vertical-align: middle;\n",
       "    }\n",
       "\n",
       "    .dataframe tbody tr th {\n",
       "        vertical-align: top;\n",
       "    }\n",
       "\n",
       "    .dataframe thead th {\n",
       "        text-align: right;\n",
       "    }\n",
       "</style>\n",
       "<table border=\"1\" class=\"dataframe\">\n",
       "  <thead>\n",
       "    <tr style=\"text-align: right;\">\n",
       "      <th></th>\n",
       "      <th>Adj Close</th>\n",
       "      <th>Volume</th>\n",
       "      <th>HL_PCT</th>\n",
       "      <th>PCT_change</th>\n",
       "    </tr>\n",
       "    <tr>\n",
       "      <th>Date</th>\n",
       "      <th></th>\n",
       "      <th></th>\n",
       "      <th></th>\n",
       "      <th></th>\n",
       "    </tr>\n",
       "  </thead>\n",
       "  <tbody>\n",
       "    <tr>\n",
       "      <th>2019-01-07</th>\n",
       "      <td>1068.390015</td>\n",
       "      <td>1981900.0</td>\n",
       "      <td>1.800840</td>\n",
       "      <td>-0.290246</td>\n",
       "    </tr>\n",
       "    <tr>\n",
       "      <th>2019-01-08</th>\n",
       "      <td>1076.280029</td>\n",
       "      <td>1764900.0</td>\n",
       "      <td>2.232693</td>\n",
       "      <td>0.015802</td>\n",
       "    </tr>\n",
       "    <tr>\n",
       "      <th>2019-01-09</th>\n",
       "      <td>1074.660034</td>\n",
       "      <td>1199300.0</td>\n",
       "      <td>1.510243</td>\n",
       "      <td>-0.646234</td>\n",
       "    </tr>\n",
       "    <tr>\n",
       "      <th>2019-01-10</th>\n",
       "      <td>1070.329956</td>\n",
       "      <td>1456400.0</td>\n",
       "      <td>1.255693</td>\n",
       "      <td>0.250072</td>\n",
       "    </tr>\n",
       "    <tr>\n",
       "      <th>2019-01-11</th>\n",
       "      <td>1057.189941</td>\n",
       "      <td>1520800.0</td>\n",
       "      <td>1.446764</td>\n",
       "      <td>-0.563415</td>\n",
       "    </tr>\n",
       "  </tbody>\n",
       "</table>\n",
       "</div>"
      ],
      "text/plain": [
       "              Adj Close     Volume    HL_PCT  PCT_change\n",
       "Date                                                    \n",
       "2019-01-07  1068.390015  1981900.0  1.800840   -0.290246\n",
       "2019-01-08  1076.280029  1764900.0  2.232693    0.015802\n",
       "2019-01-09  1074.660034  1199300.0  1.510243   -0.646234\n",
       "2019-01-10  1070.329956  1456400.0  1.255693    0.250072\n",
       "2019-01-11  1057.189941  1520800.0  1.446764   -0.563415"
      ]
     },
     "execution_count": 418,
     "metadata": {},
     "output_type": "execute_result"
    }
   ],
   "source": [
    "dfreg = df.loc[:,['Adj Close', 'Volume']]\n",
    "dfreg['HL_PCT'] = (df['High'] - df['Low']) / df['Close'] * 100.0\n",
    "dfreg['PCT_change'] = (df['Close'] - df['Open']) / df['Open'] * 100.0\n",
    "dfreg.tail()"
   ]
  },
  {
   "cell_type": "code",
   "execution_count": 419,
   "metadata": {},
   "outputs": [],
   "source": [
    "import math\n",
    "import numpy as np\n",
    "from sklearn import preprocessing\n",
    "\n",
    "# Drop missing value\n",
    "dfreg.fillna(value=-99999, inplace=True)\n",
    "\n",
    "# We want to separate 1 percent of the data to forecast\n",
    "forecast_out = int(math.ceil(0.01 * len(dfreg)))\n",
    "# Separating the label here, we want to predict the AdjClose\n",
    "forecast_col = 'Adj Close'\n",
    "\n",
    "dfreg['label'] = dfreg[forecast_col].shift(-forecast_out)\n",
    "\n",
    "X = np.array(dfreg.drop(['label'], 1))\n",
    "\n",
    "# Scale the X so that everyone can have the same distribution for linear regression\n",
    "X = preprocessing.scale(X)\n",
    "\n",
    "# Finally We want to find Data Series of late X and early X (train) for model generation and evaluation\n",
    "X_lately = X[-forecast_out:]\n",
    "\n",
    "X = X[:-forecast_out]\n",
    "# Separate label and identify it as y\n",
    "y = np.array(dfreg['label'])\n",
    "y = y[:-forecast_out]\n"
   ]
  },
  {
   "cell_type": "markdown",
   "metadata": {},
   "source": [
    "### Import the Regression models"
   ]
  },
  {
   "cell_type": "code",
   "execution_count": 420,
   "metadata": {},
   "outputs": [],
   "source": [
    "from sklearn.linear_model import LinearRegression\n",
    "from sklearn.neighbors import KNeighborsRegressor\n",
    "from sklearn import linear_model\n",
    "\n",
    "from sklearn.linear_model import Ridge\n",
    "from sklearn.preprocessing import PolynomialFeatures\n",
    "from sklearn.pipeline import make_pipeline"
   ]
  },
  {
   "cell_type": "code",
   "execution_count": 421,
   "metadata": {},
   "outputs": [],
   "source": [
    "from sklearn.model_selection import train_test_split\n",
    "\n",
    "X_train, X_test, y_train, y_test = train_test_split(X, y, test_size=0.2)"
   ]
  },
  {
   "cell_type": "code",
   "execution_count": 422,
   "metadata": {},
   "outputs": [],
   "source": [
    "def fit(model):\n",
    "    model.fit(X_train, y_train)\n",
    "\n",
    "# Linear regression\n",
    "linear_reg = LinearRegression(n_jobs=-1)\n",
    "fit(linear_reg)\n",
    "\n",
    "# Quadratic Regression 2\n",
    "poly2_reg = make_pipeline(PolynomialFeatures(2), Ridge())\n",
    "fit(poly2_reg)\n",
    "\n",
    "# Quadratic Regression 3\n",
    "poly3_reg = make_pipeline(PolynomialFeatures(3), Ridge())\n",
    "fit(poly3_reg)\n",
    "\n",
    "# Lasso Model\n",
    "lasso_reg = linear_model.Lasso(alpha=0.1)\n",
    "fit(lasso_reg)\n",
    "\n",
    "# Ridge Model\n",
    "ridge_reg = linear_model.Ridge(alpha=.5)\n",
    "fit(ridge_reg)"
   ]
  },
  {
   "cell_type": "code",
   "execution_count": 423,
   "metadata": {},
   "outputs": [
    {
     "name": "stdout",
     "output_type": "stream",
     "text": [
      "Linear score is : 0.982629250728847\n",
      "Polynomial 2 score is : 0.9826632912932987\n",
      "Polynomial 3 score is : 0.9834886506523546\n",
      "Lasso score is : 0.982629749264261\n",
      "Ridge score is : 0.9826292684855766\n"
     ]
    }
   ],
   "source": [
    "def print_score(model, title):\n",
    "    score = model.score(X_test, y_test)\n",
    "    print(title + ' score is :', score)\n",
    "\n",
    "print_score(linear_reg, 'Linear')\n",
    "print_score(poly2_reg, 'Polynomial 2')\n",
    "print_score(poly3_reg, 'Polynomial 3')\n",
    "print_score(lasso_reg, 'Lasso')\n",
    "print_score(ridge_reg, 'Ridge')\n"
   ]
  },
  {
   "cell_type": "code",
   "execution_count": 424,
   "metadata": {},
   "outputs": [],
   "source": [
    "%matplotlib inline\n",
    "import matplotlib.pyplot as plt\n",
    "from matplotlib import style\n",
    "\n",
    "# does a forecast and plots it\n",
    "def forecast(model, title):\n",
    "    forecast_set = model.predict(X_lately)\n",
    "    dfreg['Forecast'] = np.nan\n",
    "    \n",
    "    last_date = dfreg.iloc[-1].name\n",
    "    last_unix = last_date\n",
    "    next_unix = last_unix + datetime.timedelta(days=1)\n",
    "\n",
    "    for i in forecast_set:\n",
    "        next_date = next_unix\n",
    "        next_unix += datetime.timedelta(days=1)\n",
    "        dfreg.loc[next_date] = [np.nan for _ in range(len(dfreg.columns)-1)]+[i]\n",
    "    dfreg['Adj Close'].tail(500).plot()\n",
    "    dfreg['Forecast'].tail(500).plot()\n",
    "    plt.title(title)\n",
    "    plt.legend(loc=4)\n",
    "    plt.xlabel('Date')\n",
    "    plt.ylabel('Price')\n",
    "    plt.show()"
   ]
  },
  {
   "cell_type": "code",
   "execution_count": 425,
   "metadata": {},
   "outputs": [
    {
     "data": {
      "image/png": "[encoded data removed]",
      "text/plain": [
       "<Figure size 432x288 with 1 Axes>"
      ]
     },
     "metadata": {
      "needs_background": "light"
     },
     "output_type": "display_data"
    }
   ],
   "source": [
    "# Plot the one that had highest score\n",
    "forecast(lasso_reg, 'Lasso')"
   ]
  },
  {
   "cell_type": "markdown",
   "metadata": {},
   "source": [
    "# Reference\n",
    "https://towardsdatascience.com/in-12-minutes-stocks-analysis-with-pandas-and-scikit-learn-a8d8a7b50ee7"
   ]
  },
  {
   "cell_type": "code",
   "execution_count": null,
   "metadata": {},
   "outputs": [],
   "source": []
  }
 ],
 "metadata": {
  "kernelspec": {
   "display_name": "Python 3",
   "language": "python",
   "name": "python3"
  },
  "language_info": {
   "codemirror_mode": {
    "name": "ipython",
    "version": 3
   },
   "file_extension": ".py",
   "mimetype": "text/x-python",
   "name": "python",
   "nbconvert_exporter": "python",
   "pygments_lexer": "ipython3",
   "version": "3.7.3"
  }
 },
 "nbformat": 4,
 "nbformat_minor": 2
}
